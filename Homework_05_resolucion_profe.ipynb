{
 "cells": [
  {
   "cell_type": "markdown",
   "metadata": {},
   "source": [
    "# Práctica Clase 5"
   ]
  },
  {
   "cell_type": "markdown",
   "metadata": {},
   "source": [
    "1) Implementar un juego, que consista en apilar números enteros del 1 al 20, de forma aleatoria, para lo cual debe usarse una estructura de Pila. \n",
    "Luego, el usuario debe elegir un número de veces en que se va a quitar elementos de la pila, los cuales, sumados entre sí, no deben superar el valor de 50.\n",
    "El usuario pierde si la suma supera ese valor. Si no lo supera, gana, pero su calificación será 10 menos el número elementos que falten quitar para todavía no superar 50.\n",
    "El programa debe informar si perdió, y si ganó, con qué calificación lo hizo.\n",
    "\n",
    "Consideraciones:<br>\n",
    "a. Se puede usar la función input() para obtener una entrada de teclado.<br>\n",
    "b. Se puede usar la el modulo random para obtener valores aleatorios."
   ]
  },
  {
   "cell_type": "code",
   "execution_count": 1,
   "metadata": {},
   "outputs": [],
   "source": [
    "import random as r\n",
    "\n",
    "class JuegoPila: # mayus, anotación convencional para funciones. para variables todo minuscula.\n",
    "    def __init__(self):\n",
    "        #el objeto que busco crear es una pila.\n",
    "        #self.__lista = [] # el __ hace que sea PRIVADA, no modificable, la ENCAPSULE!. Ademas no se puede ver la lista, solo se puede utilizar o verdentro de la clase. (para no hacer trampa por ej.)\n",
    "        #while len(self.__lista) < 20:\n",
    "            #numero = r.randint(1,20)\n",
    "            #if numero not in self.__lista: self.__lista.append(numero)\n",
    "        self.__lista = r.sample(range(1,21), 20)\n",
    "        #print(self.__lista)    \n",
    "\n",
    "    # el metodo sample en el rango que yo le ponga, desde, hasta... devuelve todos num random en una lista. hace lo que hicimos arriba\n",
    "\n",
    "    # Quitar el ultimo elemento:\n",
    "    def __pop(self):\n",
    "        return self.__lista.pop() \n",
    "\n",
    "    #mostrar la pila /lista:\n",
    "    def __mostrarPila(self):\n",
    "        print(self.__lista)\n",
    "    \n",
    "    # Metodo Jugar\n",
    "    def Jugar(self):\n",
    "        \n",
    "        cant_elementos_quitar = input(\"ingrese la cantidad de elementos a quitar: \")\n",
    "        \n",
    "        while not cant_elementos_quitar.isdecimal() or int(cant_elementos_quitar) > 20: # mientras no sean decimales o sea mayor a 20, quedate aca dentro:\n",
    "            cant_elementos_quitar = input(\"ingrese la cantidad de elementos a quitar nuevamente (debe ser un num entre 1 y 20): \")\n",
    "        \n",
    "        cant_elementos_quitar = int(cant_elementos_quitar)\n",
    "\n",
    "        print('Pila Original:')\n",
    "        self.__mostrarPila()\n",
    "        print(\"Cant de elementos a quitar: \")\n",
    "\n",
    "        print('Pila obtenida: ')\n",
    "        self.__mostrarPila()\n",
    "\n",
    "        calificacion =10\n",
    "        suma = 0\n",
    "        for i in range(cant_elementos_quitar):\n",
    "            suma += self.__pop()\n",
    "\n",
    "        print(\"pila obtenida: \")\n",
    "        self.__mostrarPila()\n",
    "\n",
    "        if suma > 50:\n",
    "             print(\"perdiste te pasaste de 50!\")\n",
    "        else:\n",
    "             while suma <= 50:\n",
    "                suma += self.__pop() #segui sacando valores hasta que sea menor que 50.\n",
    "                if suma <= 50: calificacion -= 1\n",
    "        print('Your calification is: ')\n",
    "        print(calificacion)\n",
    "\n",
    "    \n",
    "# revisar! entra en un loop infinito!(?) \n",
    "\n",
    "\n",
    "# el profe iba a pasar su solucion.\n",
    "\n",
    "\n"
   ]
  },
  {
   "cell_type": "code",
   "execution_count": null,
   "metadata": {},
   "outputs": [],
   "source": []
  },
  {
   "cell_type": "markdown",
   "metadata": {},
   "source": [
    "2) Implementar un juego donde constas de 2 jarras, de capacidad 5 y 3 litros respectivamente, y debes colocar 4 litros en la jarra de 5L.\n",
    "Las opciones posibles son:\n",
    "* Llenar la jarra de 3 litros\n",
    "* Llenar la jarra de 5 litros\n",
    "* Vaciar la jarra de 3 litros\n",
    "* Vaciar la jarra de 5 litros\n",
    "* Verter el contenido de la jarra de 3 litros en la de 5 litros\n",
    "* Verter el contenido de la jarra de 5 litros en la de 3 litros"
   ]
  },
  {
   "cell_type": "code",
   "execution_count": null,
   "metadata": {},
   "outputs": [],
   "source": []
  }
 ],
 "metadata": {
  "kernelspec": {
   "display_name": "Python 3",
   "language": "python",
   "name": "python3"
  },
  "language_info": {
   "codemirror_mode": {
    "name": "ipython",
    "version": 3
   },
   "file_extension": ".py",
   "mimetype": "text/x-python",
   "name": "python",
   "nbconvert_exporter": "python",
   "pygments_lexer": "ipython3",
   "version": "3.10.9"
  },
  "vscode": {
   "interpreter": {
    "hash": "957a0973b20c9ca410cb31745b8585db68510eafaadcea06bf68cd1027372551"
   }
  }
 },
 "nbformat": 4,
 "nbformat_minor": 4
}
