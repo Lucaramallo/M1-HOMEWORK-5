{
 "cells": [
  {
   "cell_type": "markdown",
   "metadata": {},
   "source": [
    "# Práctica Clase 5"
   ]
  },
  {
   "cell_type": "markdown",
   "metadata": {},
   "source": [
    "1) Implementar un juego, que consista en apilar números enteros del 1 al 20, de forma aleatoria, para lo cual debe usarse una estructura de Pila. \n",
    "Luego, el usuario debe elegir un número de veces en que se va a quitar elementos de la pila, los cuales, sumados entre sí, no deben superar el valor de 50.\n",
    "El usuario pierde si la suma supera ese valor. Si no lo supera, gana, pero su calificación será 10 menos el número elementos que falten quitar para todavía no superar 50.\n",
    "El programa debe informar si perdió, y si ganó, con qué calificación lo hizo.\n",
    "\n",
    "Consideraciones:<br>\n",
    "a. Se puede usar la función input() para obtener una entrada de teclado.<br>\n",
    "b. Se puede usar la el modulo random para obtener valores aleatorios."
   ]
  },
  {
   "cell_type": "code",
   "execution_count": null,
   "metadata": {},
   "outputs": [],
   "source": [
    "numeros = list(range(1,21))\n",
    "numeros"
   ]
  },
  {
   "cell_type": "code",
   "execution_count": null,
   "metadata": {},
   "outputs": [
    {
     "data": {
      "text/plain": [
       "[15, 13, 7, 14, 1, 20, 17, 16, 9, 18, 12, 3, 4, 8, 5, 11, 10, 6, 19, 2]"
      ]
     },
     "execution_count": 2,
     "metadata": {},
     "output_type": "execute_result"
    }
   ],
   "source": [
    "import random\n",
    "random.shuffle(numeros)\n",
    "numeros"
   ]
  },
  {
   "cell_type": "code",
   "execution_count": null,
   "metadata": {},
   "outputs": [],
   "source": [
    "nelementos = int(input('Indique la cantidad de elementos que quiera quitar de la pila'))"
   ]
  },
  {
   "cell_type": "code",
   "execution_count": null,
   "metadata": {},
   "outputs": [
    {
     "data": {
      "text/plain": [
       "19"
      ]
     },
     "execution_count": 154,
     "metadata": {},
     "output_type": "execute_result"
    }
   ],
   "source": [
    "sumatoria = 0\n",
    "for i in range(nelementos):\n",
    "    sumatoria += numeros.pop()\n",
    "sumatoria\n"
   ]
  },
  {
   "cell_type": "code",
   "execution_count": null,
   "metadata": {},
   "outputs": [
    {
     "name": "stdout",
     "output_type": "stream",
     "text": [
      "Felicidades! Ganaste con 7 puntos!\n"
     ]
    }
   ],
   "source": [
    "if sumatoria > 50: print('Perdiste!')\n",
    "else:\n",
    "    contador = -1\n",
    "    while sumatoria < 50:\n",
    "        contador += 1\n",
    "        sumatoria += numeros.pop()\n",
    "    if sumatoria >= 50:# or contador == 1:\n",
    "        print(f'Felicidades! Ganaste con {10-contador} puntos!')\n"
   ]
  },
  {
   "cell_type": "code",
   "execution_count": null,
   "metadata": {},
   "outputs": [
    {
     "name": "stdout",
     "output_type": "stream",
     "text": [
      "51\n",
      "3\n"
     ]
    }
   ],
   "source": [
    "print(sumatoria)\n",
    "print(contador)"
   ]
  },
  {
   "cell_type": "markdown",
   "metadata": {},
   "source": [
    "2) Implementar un juego donde constas de 2 jarras, de capacidad 5 y 3 litros respectivamente, y debes colocar 4 litros en la jarra de 5L.\n",
    "Las opciones posibles son:\n",
    "* Llenar la jarra de 3 litros\n",
    "* Llenar la jarra de 5 litros\n",
    "* Vaciar la jarra de 3 litros\n",
    "* Vaciar la jarra de 5 litros\n",
    "* Verter el contenido de la jarra de 3 litros en la de 5 litros\n",
    "* Verter el contenido de la jarra de 5 litros en la de 3 litros"
   ]
  },
  {
   "cell_type": "code",
   "execution_count": null,
   "metadata": {},
   "outputs": [],
   "source": [
    "class Jarra:\n",
    "    def __init__(self, capacidad, contenido = 0):\n",
    "        self.contenido = contenido\n",
    "        self.capacidad = capacidad\n",
    "        if contenido > capacidad:\n",
    "            contenido = capacidad\n",
    "    def llenar(self):\n",
    "        self.contenido = self.capacidad\n",
    "    def vaciar(self):\n",
    "        self.contenido = 0\n",
    "    def verter(self, jarra_a_verter):\n",
    "        contenido_inicial = jarra_a_verter.contenido\n",
    "        jarra_a_verter.contenido += self.contenido\n",
    "        if jarra_a_verter.contenido > jarra_a_verter.capacidad:\n",
    "            jarra_a_verter.contenido = jarra_a_verter.capacidad\n",
    "        self.contenido -= (jarra_a_verter.contenido - contenido_inicial)\n"
   ]
  },
  {
   "cell_type": "code",
   "execution_count": null,
   "metadata": {},
   "outputs": [
    {
     "name": "stdout",
     "output_type": "stream",
     "text": [
      "4\n",
      "0\n",
      "GANASTEEEEEEE!!!!!\n"
     ]
    }
   ],
   "source": [
    "jarra5 = Jarra(5)\n",
    "jarra3 = Jarra(3)\n",
    "jarra3.llenar()\n",
    "jarra3.verter(jarra5)\n",
    "jarra3.llenar()\n",
    "jarra3.verter(jarra5)\n",
    "jarra5.vaciar()\n",
    "jarra3.verter(jarra5)\n",
    "jarra3.llenar()\n",
    "jarra3.verter(jarra5)\n",
    "\n",
    "print(jarra5.contenido)\n",
    "print(jarra3.contenido)\n",
    "\n",
    "if jarra5.contenido == 4:\n",
    "    print('GANASTEEEEEEE!!!!!')"
   ]
  }
 ],
 "metadata": {
  "kernelspec": {
   "display_name": "Python 3",
   "language": "python",
   "name": "python3"
  },
  "language_info": {
   "codemirror_mode": {
    "name": "ipython",
    "version": 3
   },
   "file_extension": ".py",
   "mimetype": "text/x-python",
   "name": "python",
   "nbconvert_exporter": "python",
   "pygments_lexer": "ipython3",
   "version": "3.10.9"
  },
  "vscode": {
   "interpreter": {
    "hash": "957a0973b20c9ca410cb31745b8585db68510eafaadcea06bf68cd1027372551"
   }
  }
 },
 "nbformat": 4,
 "nbformat_minor": 4
}
